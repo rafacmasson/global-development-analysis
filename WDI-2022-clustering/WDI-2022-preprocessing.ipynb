{
  "cells": [
    {
      "cell_type": "markdown",
      "metadata": {
        "id": "q6raPHZeMglH"
      },
      "source": [
        "## Importing libraries"
      ]
    },
    {
      "cell_type": "code",
      "execution_count": 1,
      "metadata": {
        "id": "YHyqSr5yMawb"
      },
      "outputs": [],
      "source": [
        "import pandas as pd\n",
        "import numpy as np\n",
        "import plotly.express as px\n",
        "from sklearn.impute import KNNImputer\n",
        "from sklearn.preprocessing import StandardScaler\n",
        "\n",
        "import requests\n",
        "import zipfile\n",
        "import io"
      ]
    },
    {
      "cell_type": "markdown",
      "metadata": {
        "id": "XiizA-FiMlro"
      },
      "source": [
        "## Downloading and reading datasets"
      ]
    },
    {
      "cell_type": "markdown",
      "metadata": {
        "id": "DSuNWPoJxHbS"
      },
      "source": [
        "### If you prefer downloading it manually, World Development Indicators (WDI) database can be found [here](https://datacatalog.worldbank.org/search/dataset/0037712)"
      ]
    },
    {
      "cell_type": "code",
      "execution_count": 2,
      "metadata": {
        "colab": {
          "base_uri": "https://localhost:8080/"
        },
        "id": "dmZ3AWWgvGy6",
        "outputId": "774a6768-5070-4a95-c8a2-3d38a8bb5178"
      },
      "outputs": [
        {
          "name": "stdout",
          "output_type": "stream",
          "text": [
            "Starting the download of the World Bank dataset...\n",
            "Download completed successfully!\n",
            "The ZIP file content is stored in the 'zip_content_in_memory' variable.\n"
          ]
        }
      ],
      "source": [
        "# Direct URL to the World Bank's ZIP file\n",
        "zip_url = 'https://datacatalogfiles.worldbank.org/ddh-published/0037712/DR0095335/WDI_CSV_2025_07_02.zip'\n",
        "\n",
        "print(\"Starting the download of the World Bank dataset...\")\n",
        "\n",
        "try:\n",
        "    # Make the request to the URL and store the response\n",
        "    response = requests.get(zip_url)\n",
        "    response.raise_for_status()  # Raise an error if the download fails\n",
        "\n",
        "    # Store the zip content in an in-memory BytesIO object\n",
        "    # This object behaves like a file and can be used by the next cell\n",
        "    zip_content_in_memory = io.BytesIO(response.content)\n",
        "\n",
        "    print(\"Download completed successfully!\")\n",
        "    print(\"The ZIP file content is stored in the 'zip_content_in_memory' variable.\")\n",
        "\n",
        "except requests.exceptions.RequestException as e:\n",
        "    print(f\"Error downloading the file: {e}\")"
      ]
    },
    {
      "cell_type": "code",
      "execution_count": 3,
      "metadata": {
        "colab": {
          "base_uri": "https://localhost:8080/",
          "height": 1000
        },
        "id": "vrmXdbg3vHlM",
        "outputId": "253a98b0-b04f-4095-c4b5-11b8823d7a4d"
      },
      "outputs": [
        {
          "name": "stdout",
          "output_type": "stream",
          "text": [
            "Reading 'WDICSV.csv'...\n",
            "Reading 'WDICountry.csv'...\n",
            "\n",
            "Dataframes loaded successfully!\n"
          ]
        }
      ],
      "source": [
        "csv_data_filename = 'WDICSV.csv'\n",
        "csv_country_filename = 'WDICountry.csv'\n",
        "\n",
        "try:\n",
        "    # Open the ZIP file that is in memory\n",
        "    with zipfile.ZipFile(zip_content_in_memory, 'r') as zip_ref:\n",
        "\n",
        "        print(f\"Reading '{csv_data_filename}'...\")\n",
        "        # Open and read the first CSV file into the df_indicators dataframe\n",
        "        with zip_ref.open(csv_data_filename) as file:\n",
        "            df_indicators = pd.read_csv(file)\n",
        "\n",
        "        print(f\"Reading '{csv_country_filename}'...\")\n",
        "        # Open and read the second CSV file into the df_countries dataframe\n",
        "        with zip_ref.open(csv_country_filename) as file:\n",
        "            df_countries = pd.read_csv(file)\n",
        "\n",
        "        print(\"\\nDataframes loaded successfully!\")\n",
        "\n",
        "except NameError:\n",
        "    print(\"Error: The 'zip_content_in_memory' variable was not found.\")\n",
        "    print(\"Please, run Cell 1 first to download the file.\")\n",
        "except KeyError as e:\n",
        "    print(f\"\\nError: One of the CSV files was not found in the ZIP archive: {e}\")\n",
        "    # If a file is not found, this part helps with debugging\n",
        "    with zipfile.ZipFile(zip_content_in_memory, 'r') as zip_ref:\n",
        "        print(\"Available files in the ZIP:\", zip_ref.namelist())"
      ]
    },
    {
      "cell_type": "code",
      "execution_count": 4,
      "metadata": {
        "id": "B70jFGepTQsJ"
      },
      "outputs": [],
      "source": [
        "df = df_indicators.merge(df_countries[['Country Code', 'Region']], how='left', on='Country Code')"
      ]
    },
    {
      "cell_type": "code",
      "execution_count": 5,
      "metadata": {
        "colab": {
          "base_uri": "https://localhost:8080/"
        },
        "id": "QVQQ614BQ8rR",
        "outputId": "0228fef8-a241-4f0c-c440-f6e157830ee0"
      },
      "outputs": [
        {
          "data": {
            "text/plain": [
              "(403256, 70)"
            ]
          },
          "execution_count": 5,
          "metadata": {},
          "output_type": "execute_result"
        }
      ],
      "source": [
        "df.shape"
      ]
    },
    {
      "cell_type": "markdown",
      "metadata": {
        "id": "xePV1ML3RoVN"
      },
      "source": [
        "## Example and feature selection"
      ]
    },
    {
      "cell_type": "markdown",
      "metadata": {
        "id": "em8t3jxYNze0"
      },
      "source": [
        "### Selecting 16 indicators"
      ]
    },
    {
      "cell_type": "code",
      "execution_count": 6,
      "metadata": {
        "id": "1G5nIXjhRpZc"
      },
      "outputs": [],
      "source": [
        "indicators = {\n",
        "    # Demography\n",
        "    \"SP.POP.TOTL\": \"population_total\",\n",
        "    \"SP.URB.TOTL.IN.ZS\": \"urban_population_percent\",\n",
        "    \"SP.POP.65UP.TO.ZS\": \"population_65_plus_percent\",\n",
        "    \"SP.DYN.TFRT.IN\": \"fertility_rate_total\",\n",
        "    \"SP.DYN.LE00.IN\": \"life_expectancy_at_birth\",\n",
        "\n",
        "    # Economy\n",
        "    \"NY.GDP.PCAP.CD\": \"gdp_per_capita_usd\",\n",
        "    \"NY.GDP.MKTP.KD.ZG\": \"gdp_growth_annual_percent\",\n",
        "    \"NV.AGR.TOTL.ZS\": \"agriculture_value_added_percent_gdp\",\n",
        "    \"NV.IND.TOTL.ZS\": \"industry_value_added_percent_gdp\",\n",
        "\n",
        "    # Infrastructure & Technology\n",
        "    \"EG.ELC.ACCS.ZS\": \"access_to_electricity_percent\",\n",
        "    \"IT.CEL.SETS.P2\": \"mobile_cellular_subscriptions_per_100_people\",\n",
        "\n",
        "    # Health & Environment\n",
        "    \"SH.XPD.CHEX.GD.ZS\": \"health_expenditure_pct_gdp\",\n",
        "    \"SP.DYN.IMRT.IN\": \"child_mortality_rate\",\n",
        "    \"EN.GHG.CO2.PC.CE.AR5\": \"co2_emissions_per_capita\",\n",
        "\n",
        "    # Governance & Stability\n",
        "    \"PV.EST\": \"stability_of_government_estimate\",\n",
        "    \"CC.EST\": \"corruption_perception_estimate\"\n",
        "}\n",
        "\n",
        "df_filtered = df[df['Indicator Code'].isin(indicators.keys())].copy()"
      ]
    },
    {
      "cell_type": "markdown",
      "metadata": {
        "id": "3TyUNtWUOGQ4"
      },
      "source": [
        "### Changing indicator names"
      ]
    },
    {
      "cell_type": "code",
      "execution_count": 7,
      "metadata": {
        "id": "VciRWdlOR3Kj"
      },
      "outputs": [],
      "source": [
        "df_filtered[\"Indicator Name\"] = df_filtered[\"Indicator Code\"].map(indicators)"
      ]
    },
    {
      "cell_type": "markdown",
      "metadata": {
        "id": "_sRDWd3UOqJD"
      },
      "source": [
        "### Removing lines related to regions, and not countries"
      ]
    },
    {
      "cell_type": "code",
      "execution_count": 8,
      "metadata": {
        "id": "clgMDYRXR21_"
      },
      "outputs": [],
      "source": [
        "df_filtered = df_filtered[df_filtered[\"Region\"].notna()].reset_index(drop=True)"
      ]
    },
    {
      "cell_type": "markdown",
      "metadata": {
        "id": "7OV4qO8gOy8F"
      },
      "source": [
        "### Selecting years from 21st century"
      ]
    },
    {
      "cell_type": "code",
      "execution_count": 9,
      "metadata": {
        "id": "6a50V30GSAhf"
      },
      "outputs": [],
      "source": [
        "years_to_remove = [str(year) for year in range(1960, 2001)]\n",
        "df_21century = df_filtered.drop(columns=years_to_remove)"
      ]
    },
    {
      "cell_type": "code",
      "execution_count": 10,
      "metadata": {
        "colab": {
          "base_uri": "https://localhost:8080/"
        },
        "id": "WlZCt2oOSBBe",
        "outputId": "5031d5c7-dfe7-4e64-d56c-8bf0e1aba1c9"
      },
      "outputs": [
        {
          "data": {
            "text/plain": [
              "(3472, 29)"
            ]
          },
          "execution_count": 10,
          "metadata": {},
          "output_type": "execute_result"
        }
      ],
      "source": [
        "df_21century.shape"
      ]
    },
    {
      "cell_type": "markdown",
      "metadata": {
        "id": "JXhunM-oVve9"
      },
      "source": [
        "## Year selection"
      ]
    },
    {
      "cell_type": "markdown",
      "metadata": {
        "id": "m5hNJFpdPK7Q"
      },
      "source": [
        "### Percentage of NaN values for every Indicator Code in each Year"
      ]
    },
    {
      "cell_type": "code",
      "execution_count": 11,
      "metadata": {
        "colab": {
          "base_uri": "https://localhost:8080/",
          "height": 631
        },
        "id": "_Hp3WOc9PCMY",
        "outputId": "2ad45e65-ad20-4243-eab1-12c2004c331e"
      },
      "outputs": [
        {
          "data": {
            "text/html": [
              "<div>\n",
              "<style scoped>\n",
              "    .dataframe tbody tr th:only-of-type {\n",
              "        vertical-align: middle;\n",
              "    }\n",
              "\n",
              "    .dataframe tbody tr th {\n",
              "        vertical-align: top;\n",
              "    }\n",
              "\n",
              "    .dataframe thead th {\n",
              "        text-align: right;\n",
              "    }\n",
              "</style>\n",
              "<table border=\"1\" class=\"dataframe\">\n",
              "  <thead>\n",
              "    <tr style=\"text-align: right;\">\n",
              "      <th></th>\n",
              "      <th>2001</th>\n",
              "      <th>2002</th>\n",
              "      <th>2003</th>\n",
              "      <th>2004</th>\n",
              "      <th>2005</th>\n",
              "      <th>2006</th>\n",
              "      <th>2007</th>\n",
              "      <th>2008</th>\n",
              "      <th>2009</th>\n",
              "      <th>2010</th>\n",
              "      <th>...</th>\n",
              "      <th>2015</th>\n",
              "      <th>2016</th>\n",
              "      <th>2017</th>\n",
              "      <th>2018</th>\n",
              "      <th>2019</th>\n",
              "      <th>2020</th>\n",
              "      <th>2021</th>\n",
              "      <th>2022</th>\n",
              "      <th>2023</th>\n",
              "      <th>2024</th>\n",
              "    </tr>\n",
              "    <tr>\n",
              "      <th>Indicator Code</th>\n",
              "      <th></th>\n",
              "      <th></th>\n",
              "      <th></th>\n",
              "      <th></th>\n",
              "      <th></th>\n",
              "      <th></th>\n",
              "      <th></th>\n",
              "      <th></th>\n",
              "      <th></th>\n",
              "      <th></th>\n",
              "      <th></th>\n",
              "      <th></th>\n",
              "      <th></th>\n",
              "      <th></th>\n",
              "      <th></th>\n",
              "      <th></th>\n",
              "      <th></th>\n",
              "      <th></th>\n",
              "      <th></th>\n",
              "      <th></th>\n",
              "      <th></th>\n",
              "    </tr>\n",
              "  </thead>\n",
              "  <tbody>\n",
              "    <tr>\n",
              "      <th>CC.EST</th>\n",
              "      <td>100.000000</td>\n",
              "      <td>13.824885</td>\n",
              "      <td>13.824885</td>\n",
              "      <td>8.755760</td>\n",
              "      <td>8.294931</td>\n",
              "      <td>8.294931</td>\n",
              "      <td>7.834101</td>\n",
              "      <td>7.373272</td>\n",
              "      <td>6.912442</td>\n",
              "      <td>6.451613</td>\n",
              "      <td>...</td>\n",
              "      <td>5.529954</td>\n",
              "      <td>5.529954</td>\n",
              "      <td>5.529954</td>\n",
              "      <td>5.529954</td>\n",
              "      <td>5.529954</td>\n",
              "      <td>5.529954</td>\n",
              "      <td>5.529954</td>\n",
              "      <td>5.529954</td>\n",
              "      <td>5.529954</td>\n",
              "      <td>100.000000</td>\n",
              "    </tr>\n",
              "    <tr>\n",
              "      <th>EG.ELC.ACCS.ZS</th>\n",
              "      <td>2.764977</td>\n",
              "      <td>2.304147</td>\n",
              "      <td>2.304147</td>\n",
              "      <td>2.304147</td>\n",
              "      <td>2.304147</td>\n",
              "      <td>2.304147</td>\n",
              "      <td>1.382488</td>\n",
              "      <td>1.382488</td>\n",
              "      <td>0.921659</td>\n",
              "      <td>0.921659</td>\n",
              "      <td>...</td>\n",
              "      <td>0.921659</td>\n",
              "      <td>0.921659</td>\n",
              "      <td>0.921659</td>\n",
              "      <td>0.921659</td>\n",
              "      <td>0.921659</td>\n",
              "      <td>0.921659</td>\n",
              "      <td>0.921659</td>\n",
              "      <td>0.921659</td>\n",
              "      <td>0.921659</td>\n",
              "      <td>100.000000</td>\n",
              "    </tr>\n",
              "    <tr>\n",
              "      <th>EN.GHG.CO2.PC.CE.AR5</th>\n",
              "      <td>6.451613</td>\n",
              "      <td>6.451613</td>\n",
              "      <td>6.451613</td>\n",
              "      <td>6.451613</td>\n",
              "      <td>6.451613</td>\n",
              "      <td>6.451613</td>\n",
              "      <td>6.451613</td>\n",
              "      <td>6.451613</td>\n",
              "      <td>6.451613</td>\n",
              "      <td>6.451613</td>\n",
              "      <td>...</td>\n",
              "      <td>6.451613</td>\n",
              "      <td>6.451613</td>\n",
              "      <td>6.451613</td>\n",
              "      <td>6.451613</td>\n",
              "      <td>6.451613</td>\n",
              "      <td>6.451613</td>\n",
              "      <td>6.451613</td>\n",
              "      <td>6.451613</td>\n",
              "      <td>6.451613</td>\n",
              "      <td>100.000000</td>\n",
              "    </tr>\n",
              "    <tr>\n",
              "      <th>IT.CEL.SETS.P2</th>\n",
              "      <td>5.990783</td>\n",
              "      <td>5.069124</td>\n",
              "      <td>5.069124</td>\n",
              "      <td>4.608295</td>\n",
              "      <td>5.990783</td>\n",
              "      <td>7.373272</td>\n",
              "      <td>5.990783</td>\n",
              "      <td>6.912442</td>\n",
              "      <td>5.990783</td>\n",
              "      <td>4.608295</td>\n",
              "      <td>...</td>\n",
              "      <td>4.608295</td>\n",
              "      <td>6.912442</td>\n",
              "      <td>6.451613</td>\n",
              "      <td>11.981567</td>\n",
              "      <td>4.147465</td>\n",
              "      <td>4.608295</td>\n",
              "      <td>4.147465</td>\n",
              "      <td>3.686636</td>\n",
              "      <td>25.345622</td>\n",
              "      <td>100.000000</td>\n",
              "    </tr>\n",
              "    <tr>\n",
              "      <th>NV.AGR.TOTL.ZS</th>\n",
              "      <td>14.746544</td>\n",
              "      <td>13.824885</td>\n",
              "      <td>12.903226</td>\n",
              "      <td>12.903226</td>\n",
              "      <td>12.903226</td>\n",
              "      <td>11.059908</td>\n",
              "      <td>11.059908</td>\n",
              "      <td>9.677419</td>\n",
              "      <td>9.216590</td>\n",
              "      <td>9.216590</td>\n",
              "      <td>...</td>\n",
              "      <td>7.834101</td>\n",
              "      <td>7.834101</td>\n",
              "      <td>7.834101</td>\n",
              "      <td>8.294931</td>\n",
              "      <td>8.294931</td>\n",
              "      <td>9.216590</td>\n",
              "      <td>9.677419</td>\n",
              "      <td>10.138249</td>\n",
              "      <td>14.746544</td>\n",
              "      <td>29.032258</td>\n",
              "    </tr>\n",
              "    <tr>\n",
              "      <th>NV.IND.TOTL.ZS</th>\n",
              "      <td>16.589862</td>\n",
              "      <td>15.668203</td>\n",
              "      <td>14.285714</td>\n",
              "      <td>13.824885</td>\n",
              "      <td>13.824885</td>\n",
              "      <td>11.981567</td>\n",
              "      <td>11.520737</td>\n",
              "      <td>10.138249</td>\n",
              "      <td>9.677419</td>\n",
              "      <td>8.755760</td>\n",
              "      <td>...</td>\n",
              "      <td>5.990783</td>\n",
              "      <td>6.451613</td>\n",
              "      <td>6.451613</td>\n",
              "      <td>6.912442</td>\n",
              "      <td>6.912442</td>\n",
              "      <td>7.834101</td>\n",
              "      <td>8.294931</td>\n",
              "      <td>9.216590</td>\n",
              "      <td>13.824885</td>\n",
              "      <td>29.032258</td>\n",
              "    </tr>\n",
              "    <tr>\n",
              "      <th>NY.GDP.MKTP.KD.ZG</th>\n",
              "      <td>7.834101</td>\n",
              "      <td>7.834101</td>\n",
              "      <td>5.990783</td>\n",
              "      <td>5.990783</td>\n",
              "      <td>5.990783</td>\n",
              "      <td>5.990783</td>\n",
              "      <td>5.529954</td>\n",
              "      <td>5.069124</td>\n",
              "      <td>3.686636</td>\n",
              "      <td>3.225806</td>\n",
              "      <td>...</td>\n",
              "      <td>3.225806</td>\n",
              "      <td>3.686636</td>\n",
              "      <td>3.686636</td>\n",
              "      <td>3.225806</td>\n",
              "      <td>3.686636</td>\n",
              "      <td>3.686636</td>\n",
              "      <td>3.686636</td>\n",
              "      <td>4.147465</td>\n",
              "      <td>7.373272</td>\n",
              "      <td>15.207373</td>\n",
              "    </tr>\n",
              "    <tr>\n",
              "      <th>NY.GDP.PCAP.CD</th>\n",
              "      <td>5.529954</td>\n",
              "      <td>3.686636</td>\n",
              "      <td>3.686636</td>\n",
              "      <td>3.686636</td>\n",
              "      <td>3.686636</td>\n",
              "      <td>3.225806</td>\n",
              "      <td>3.225806</td>\n",
              "      <td>2.764977</td>\n",
              "      <td>1.843318</td>\n",
              "      <td>1.843318</td>\n",
              "      <td>...</td>\n",
              "      <td>2.764977</td>\n",
              "      <td>3.225806</td>\n",
              "      <td>3.225806</td>\n",
              "      <td>3.225806</td>\n",
              "      <td>2.764977</td>\n",
              "      <td>3.225806</td>\n",
              "      <td>3.225806</td>\n",
              "      <td>3.686636</td>\n",
              "      <td>7.373272</td>\n",
              "      <td>15.207373</td>\n",
              "    </tr>\n",
              "    <tr>\n",
              "      <th>PV.EST</th>\n",
              "      <td>100.000000</td>\n",
              "      <td>13.824885</td>\n",
              "      <td>9.216590</td>\n",
              "      <td>7.373272</td>\n",
              "      <td>7.373272</td>\n",
              "      <td>6.912442</td>\n",
              "      <td>6.912442</td>\n",
              "      <td>6.451613</td>\n",
              "      <td>5.990783</td>\n",
              "      <td>5.990783</td>\n",
              "      <td>...</td>\n",
              "      <td>5.529954</td>\n",
              "      <td>5.529954</td>\n",
              "      <td>5.529954</td>\n",
              "      <td>5.529954</td>\n",
              "      <td>5.529954</td>\n",
              "      <td>5.529954</td>\n",
              "      <td>5.529954</td>\n",
              "      <td>5.529954</td>\n",
              "      <td>5.529954</td>\n",
              "      <td>100.000000</td>\n",
              "    </tr>\n",
              "    <tr>\n",
              "      <th>SH.XPD.CHEX.GD.ZS</th>\n",
              "      <td>15.207373</td>\n",
              "      <td>14.746544</td>\n",
              "      <td>13.824885</td>\n",
              "      <td>13.824885</td>\n",
              "      <td>13.824885</td>\n",
              "      <td>13.824885</td>\n",
              "      <td>13.824885</td>\n",
              "      <td>13.824885</td>\n",
              "      <td>13.824885</td>\n",
              "      <td>13.364055</td>\n",
              "      <td>...</td>\n",
              "      <td>12.442396</td>\n",
              "      <td>12.442396</td>\n",
              "      <td>11.981567</td>\n",
              "      <td>11.520737</td>\n",
              "      <td>11.520737</td>\n",
              "      <td>11.520737</td>\n",
              "      <td>11.520737</td>\n",
              "      <td>11.981567</td>\n",
              "      <td>90.322581</td>\n",
              "      <td>100.000000</td>\n",
              "    </tr>\n",
              "    <tr>\n",
              "      <th>SP.DYN.IMRT.IN</th>\n",
              "      <td>9.677419</td>\n",
              "      <td>9.677419</td>\n",
              "      <td>9.677419</td>\n",
              "      <td>9.677419</td>\n",
              "      <td>9.677419</td>\n",
              "      <td>9.677419</td>\n",
              "      <td>9.677419</td>\n",
              "      <td>9.677419</td>\n",
              "      <td>9.677419</td>\n",
              "      <td>9.677419</td>\n",
              "      <td>...</td>\n",
              "      <td>9.677419</td>\n",
              "      <td>9.677419</td>\n",
              "      <td>9.677419</td>\n",
              "      <td>9.677419</td>\n",
              "      <td>9.677419</td>\n",
              "      <td>9.677419</td>\n",
              "      <td>9.677419</td>\n",
              "      <td>9.677419</td>\n",
              "      <td>9.677419</td>\n",
              "      <td>100.000000</td>\n",
              "    </tr>\n",
              "    <tr>\n",
              "      <th>SP.DYN.LE00.IN</th>\n",
              "      <td>0.000000</td>\n",
              "      <td>0.000000</td>\n",
              "      <td>0.000000</td>\n",
              "      <td>0.000000</td>\n",
              "      <td>0.000000</td>\n",
              "      <td>0.000000</td>\n",
              "      <td>0.000000</td>\n",
              "      <td>0.000000</td>\n",
              "      <td>0.000000</td>\n",
              "      <td>0.000000</td>\n",
              "      <td>...</td>\n",
              "      <td>0.000000</td>\n",
              "      <td>0.000000</td>\n",
              "      <td>0.000000</td>\n",
              "      <td>0.000000</td>\n",
              "      <td>0.000000</td>\n",
              "      <td>0.000000</td>\n",
              "      <td>0.000000</td>\n",
              "      <td>0.000000</td>\n",
              "      <td>0.000000</td>\n",
              "      <td>100.000000</td>\n",
              "    </tr>\n",
              "    <tr>\n",
              "      <th>SP.DYN.TFRT.IN</th>\n",
              "      <td>0.000000</td>\n",
              "      <td>0.000000</td>\n",
              "      <td>0.000000</td>\n",
              "      <td>0.000000</td>\n",
              "      <td>0.000000</td>\n",
              "      <td>0.000000</td>\n",
              "      <td>0.000000</td>\n",
              "      <td>0.000000</td>\n",
              "      <td>0.000000</td>\n",
              "      <td>0.000000</td>\n",
              "      <td>...</td>\n",
              "      <td>0.000000</td>\n",
              "      <td>0.000000</td>\n",
              "      <td>0.000000</td>\n",
              "      <td>0.000000</td>\n",
              "      <td>0.000000</td>\n",
              "      <td>0.000000</td>\n",
              "      <td>0.000000</td>\n",
              "      <td>0.000000</td>\n",
              "      <td>0.000000</td>\n",
              "      <td>100.000000</td>\n",
              "    </tr>\n",
              "    <tr>\n",
              "      <th>SP.POP.65UP.TO.ZS</th>\n",
              "      <td>0.000000</td>\n",
              "      <td>0.000000</td>\n",
              "      <td>0.000000</td>\n",
              "      <td>0.000000</td>\n",
              "      <td>0.000000</td>\n",
              "      <td>0.000000</td>\n",
              "      <td>0.000000</td>\n",
              "      <td>0.000000</td>\n",
              "      <td>0.000000</td>\n",
              "      <td>0.000000</td>\n",
              "      <td>...</td>\n",
              "      <td>0.000000</td>\n",
              "      <td>0.000000</td>\n",
              "      <td>0.000000</td>\n",
              "      <td>0.000000</td>\n",
              "      <td>0.000000</td>\n",
              "      <td>0.000000</td>\n",
              "      <td>0.000000</td>\n",
              "      <td>0.000000</td>\n",
              "      <td>0.000000</td>\n",
              "      <td>0.000000</td>\n",
              "    </tr>\n",
              "    <tr>\n",
              "      <th>SP.POP.TOTL</th>\n",
              "      <td>0.000000</td>\n",
              "      <td>0.000000</td>\n",
              "      <td>0.000000</td>\n",
              "      <td>0.000000</td>\n",
              "      <td>0.000000</td>\n",
              "      <td>0.000000</td>\n",
              "      <td>0.000000</td>\n",
              "      <td>0.000000</td>\n",
              "      <td>0.000000</td>\n",
              "      <td>0.000000</td>\n",
              "      <td>...</td>\n",
              "      <td>0.000000</td>\n",
              "      <td>0.000000</td>\n",
              "      <td>0.000000</td>\n",
              "      <td>0.000000</td>\n",
              "      <td>0.000000</td>\n",
              "      <td>0.000000</td>\n",
              "      <td>0.000000</td>\n",
              "      <td>0.000000</td>\n",
              "      <td>0.000000</td>\n",
              "      <td>0.000000</td>\n",
              "    </tr>\n",
              "    <tr>\n",
              "      <th>SP.URB.TOTL.IN.ZS</th>\n",
              "      <td>0.921659</td>\n",
              "      <td>0.921659</td>\n",
              "      <td>0.921659</td>\n",
              "      <td>0.921659</td>\n",
              "      <td>0.921659</td>\n",
              "      <td>0.921659</td>\n",
              "      <td>0.921659</td>\n",
              "      <td>0.921659</td>\n",
              "      <td>0.921659</td>\n",
              "      <td>0.921659</td>\n",
              "      <td>...</td>\n",
              "      <td>0.921659</td>\n",
              "      <td>0.921659</td>\n",
              "      <td>0.921659</td>\n",
              "      <td>0.921659</td>\n",
              "      <td>0.921659</td>\n",
              "      <td>0.921659</td>\n",
              "      <td>0.921659</td>\n",
              "      <td>0.921659</td>\n",
              "      <td>0.921659</td>\n",
              "      <td>0.921659</td>\n",
              "    </tr>\n",
              "  </tbody>\n",
              "</table>\n",
              "<p>16 rows × 24 columns</p>\n",
              "</div>"
            ],
            "text/plain": [
              "                            2001       2002       2003       2004       2005  \\\n",
              "Indicator Code                                                                 \n",
              "CC.EST                100.000000  13.824885  13.824885   8.755760   8.294931   \n",
              "EG.ELC.ACCS.ZS          2.764977   2.304147   2.304147   2.304147   2.304147   \n",
              "EN.GHG.CO2.PC.CE.AR5    6.451613   6.451613   6.451613   6.451613   6.451613   \n",
              "IT.CEL.SETS.P2          5.990783   5.069124   5.069124   4.608295   5.990783   \n",
              "NV.AGR.TOTL.ZS         14.746544  13.824885  12.903226  12.903226  12.903226   \n",
              "NV.IND.TOTL.ZS         16.589862  15.668203  14.285714  13.824885  13.824885   \n",
              "NY.GDP.MKTP.KD.ZG       7.834101   7.834101   5.990783   5.990783   5.990783   \n",
              "NY.GDP.PCAP.CD          5.529954   3.686636   3.686636   3.686636   3.686636   \n",
              "PV.EST                100.000000  13.824885   9.216590   7.373272   7.373272   \n",
              "SH.XPD.CHEX.GD.ZS      15.207373  14.746544  13.824885  13.824885  13.824885   \n",
              "SP.DYN.IMRT.IN          9.677419   9.677419   9.677419   9.677419   9.677419   \n",
              "SP.DYN.LE00.IN          0.000000   0.000000   0.000000   0.000000   0.000000   \n",
              "SP.DYN.TFRT.IN          0.000000   0.000000   0.000000   0.000000   0.000000   \n",
              "SP.POP.65UP.TO.ZS       0.000000   0.000000   0.000000   0.000000   0.000000   \n",
              "SP.POP.TOTL             0.000000   0.000000   0.000000   0.000000   0.000000   \n",
              "SP.URB.TOTL.IN.ZS       0.921659   0.921659   0.921659   0.921659   0.921659   \n",
              "\n",
              "                           2006       2007       2008       2009       2010  \\\n",
              "Indicator Code                                                                \n",
              "CC.EST                 8.294931   7.834101   7.373272   6.912442   6.451613   \n",
              "EG.ELC.ACCS.ZS         2.304147   1.382488   1.382488   0.921659   0.921659   \n",
              "EN.GHG.CO2.PC.CE.AR5   6.451613   6.451613   6.451613   6.451613   6.451613   \n",
              "IT.CEL.SETS.P2         7.373272   5.990783   6.912442   5.990783   4.608295   \n",
              "NV.AGR.TOTL.ZS        11.059908  11.059908   9.677419   9.216590   9.216590   \n",
              "NV.IND.TOTL.ZS        11.981567  11.520737  10.138249   9.677419   8.755760   \n",
              "NY.GDP.MKTP.KD.ZG      5.990783   5.529954   5.069124   3.686636   3.225806   \n",
              "NY.GDP.PCAP.CD         3.225806   3.225806   2.764977   1.843318   1.843318   \n",
              "PV.EST                 6.912442   6.912442   6.451613   5.990783   5.990783   \n",
              "SH.XPD.CHEX.GD.ZS     13.824885  13.824885  13.824885  13.824885  13.364055   \n",
              "SP.DYN.IMRT.IN         9.677419   9.677419   9.677419   9.677419   9.677419   \n",
              "SP.DYN.LE00.IN         0.000000   0.000000   0.000000   0.000000   0.000000   \n",
              "SP.DYN.TFRT.IN         0.000000   0.000000   0.000000   0.000000   0.000000   \n",
              "SP.POP.65UP.TO.ZS      0.000000   0.000000   0.000000   0.000000   0.000000   \n",
              "SP.POP.TOTL            0.000000   0.000000   0.000000   0.000000   0.000000   \n",
              "SP.URB.TOTL.IN.ZS      0.921659   0.921659   0.921659   0.921659   0.921659   \n",
              "\n",
              "                      ...       2015       2016       2017       2018  \\\n",
              "Indicator Code        ...                                               \n",
              "CC.EST                ...   5.529954   5.529954   5.529954   5.529954   \n",
              "EG.ELC.ACCS.ZS        ...   0.921659   0.921659   0.921659   0.921659   \n",
              "EN.GHG.CO2.PC.CE.AR5  ...   6.451613   6.451613   6.451613   6.451613   \n",
              "IT.CEL.SETS.P2        ...   4.608295   6.912442   6.451613  11.981567   \n",
              "NV.AGR.TOTL.ZS        ...   7.834101   7.834101   7.834101   8.294931   \n",
              "NV.IND.TOTL.ZS        ...   5.990783   6.451613   6.451613   6.912442   \n",
              "NY.GDP.MKTP.KD.ZG     ...   3.225806   3.686636   3.686636   3.225806   \n",
              "NY.GDP.PCAP.CD        ...   2.764977   3.225806   3.225806   3.225806   \n",
              "PV.EST                ...   5.529954   5.529954   5.529954   5.529954   \n",
              "SH.XPD.CHEX.GD.ZS     ...  12.442396  12.442396  11.981567  11.520737   \n",
              "SP.DYN.IMRT.IN        ...   9.677419   9.677419   9.677419   9.677419   \n",
              "SP.DYN.LE00.IN        ...   0.000000   0.000000   0.000000   0.000000   \n",
              "SP.DYN.TFRT.IN        ...   0.000000   0.000000   0.000000   0.000000   \n",
              "SP.POP.65UP.TO.ZS     ...   0.000000   0.000000   0.000000   0.000000   \n",
              "SP.POP.TOTL           ...   0.000000   0.000000   0.000000   0.000000   \n",
              "SP.URB.TOTL.IN.ZS     ...   0.921659   0.921659   0.921659   0.921659   \n",
              "\n",
              "                           2019       2020       2021       2022       2023  \\\n",
              "Indicator Code                                                                \n",
              "CC.EST                 5.529954   5.529954   5.529954   5.529954   5.529954   \n",
              "EG.ELC.ACCS.ZS         0.921659   0.921659   0.921659   0.921659   0.921659   \n",
              "EN.GHG.CO2.PC.CE.AR5   6.451613   6.451613   6.451613   6.451613   6.451613   \n",
              "IT.CEL.SETS.P2         4.147465   4.608295   4.147465   3.686636  25.345622   \n",
              "NV.AGR.TOTL.ZS         8.294931   9.216590   9.677419  10.138249  14.746544   \n",
              "NV.IND.TOTL.ZS         6.912442   7.834101   8.294931   9.216590  13.824885   \n",
              "NY.GDP.MKTP.KD.ZG      3.686636   3.686636   3.686636   4.147465   7.373272   \n",
              "NY.GDP.PCAP.CD         2.764977   3.225806   3.225806   3.686636   7.373272   \n",
              "PV.EST                 5.529954   5.529954   5.529954   5.529954   5.529954   \n",
              "SH.XPD.CHEX.GD.ZS     11.520737  11.520737  11.520737  11.981567  90.322581   \n",
              "SP.DYN.IMRT.IN         9.677419   9.677419   9.677419   9.677419   9.677419   \n",
              "SP.DYN.LE00.IN         0.000000   0.000000   0.000000   0.000000   0.000000   \n",
              "SP.DYN.TFRT.IN         0.000000   0.000000   0.000000   0.000000   0.000000   \n",
              "SP.POP.65UP.TO.ZS      0.000000   0.000000   0.000000   0.000000   0.000000   \n",
              "SP.POP.TOTL            0.000000   0.000000   0.000000   0.000000   0.000000   \n",
              "SP.URB.TOTL.IN.ZS      0.921659   0.921659   0.921659   0.921659   0.921659   \n",
              "\n",
              "                            2024  \n",
              "Indicator Code                    \n",
              "CC.EST                100.000000  \n",
              "EG.ELC.ACCS.ZS        100.000000  \n",
              "EN.GHG.CO2.PC.CE.AR5  100.000000  \n",
              "IT.CEL.SETS.P2        100.000000  \n",
              "NV.AGR.TOTL.ZS         29.032258  \n",
              "NV.IND.TOTL.ZS         29.032258  \n",
              "NY.GDP.MKTP.KD.ZG      15.207373  \n",
              "NY.GDP.PCAP.CD         15.207373  \n",
              "PV.EST                100.000000  \n",
              "SH.XPD.CHEX.GD.ZS     100.000000  \n",
              "SP.DYN.IMRT.IN        100.000000  \n",
              "SP.DYN.LE00.IN        100.000000  \n",
              "SP.DYN.TFRT.IN        100.000000  \n",
              "SP.POP.65UP.TO.ZS       0.000000  \n",
              "SP.POP.TOTL             0.000000  \n",
              "SP.URB.TOTL.IN.ZS       0.921659  \n",
              "\n",
              "[16 rows x 24 columns]"
            ]
          },
          "metadata": {},
          "output_type": "display_data"
        }
      ],
      "source": [
        "year_columns = [col for col in df_21century.columns if col.isdigit()]\n",
        "\n",
        "nan_percentage_by_indicator_year = df_21century.groupby('Indicator Code')[year_columns].apply(\n",
        "    lambda x: x.isnull().sum() / len(x) * 100\n",
        ")\n",
        "\n",
        "display(nan_percentage_by_indicator_year)"
      ]
    },
    {
      "cell_type": "markdown",
      "metadata": {
        "id": "BXwyXqIMPXZo"
      },
      "source": [
        "### Selecting only 2022"
      ]
    },
    {
      "cell_type": "code",
      "execution_count": 12,
      "metadata": {
        "id": "OmDjIBH5VqV6"
      },
      "outputs": [],
      "source": [
        "ANO_ANALISE = '2022'\n",
        "\n",
        "df_pivot_subset = df_21century[['Country Name', 'Country Code', 'Region', 'Indicator Code', ANO_ANALISE]]\n",
        "\n",
        "df_pivot = df_pivot_subset.pivot_table(\n",
        "    index=['Country Name', 'Country Code', 'Region'],\n",
        "    columns='Indicator Code',\n",
        "    values=ANO_ANALISE\n",
        ").reset_index()\n",
        "\n",
        "df_2022 = df_pivot.rename(columns=indicators)"
      ]
    },
    {
      "cell_type": "markdown",
      "metadata": {
        "id": "_6GXewkRTIRo"
      },
      "source": [
        "## Dealing with NaN values"
      ]
    },
    {
      "cell_type": "markdown",
      "metadata": {
        "id": "SD6b4yHQT6VY"
      },
      "source": [
        "### Countries with NaN values"
      ]
    },
    {
      "cell_type": "code",
      "execution_count": 13,
      "metadata": {
        "id": "jEgRillCY4HN"
      },
      "outputs": [],
      "source": [
        "dfna = df_2022[df_2022.isna().any(axis=1)]\n",
        "na_counts = dfna.isna().sum(axis=1)\n",
        "\n",
        "# Create a mapping from indicator names to numbers\n",
        "indicator_mapping = {name: i for i, name in enumerate(indicators.values())}\n",
        "\n",
        "na_indicators_list = []\n",
        "for index, row in dfna.iterrows():\n",
        "    na_cols = row[row.isna()].index.tolist()\n",
        "    # Map indicator names to numbers\n",
        "    na_indicator_numbers = [indicator_mapping[col] for col in na_cols if col in indicator_mapping]\n",
        "    na_indicators_list.append(na_indicator_numbers)\n",
        "\n",
        "na_countries = pd.DataFrame({\n",
        "    'Country Name': dfna['Country Name'],\n",
        "    'Population Total': dfna['population_total'],\n",
        "    'NA Count': na_counts,\n",
        "    'NA Indicators': na_indicators_list\n",
        "}).sort_values(by='NA Count', ascending=False)"
      ]
    },
    {
      "cell_type": "code",
      "execution_count": 14,
      "metadata": {
        "colab": {
          "base_uri": "https://localhost:8080/"
        },
        "id": "4ezojx0_TdiH",
        "outputId": "e09dcd33-fbe1-49e5-da57-405a5d9e0ec9"
      },
      "outputs": [
        {
          "data": {
            "text/plain": [
              "{'population_total': 0,\n",
              " 'urban_population_percent': 1,\n",
              " 'population_65_plus_percent': 2,\n",
              " 'fertility_rate_total': 3,\n",
              " 'life_expectancy_at_birth': 4,\n",
              " 'gdp_per_capita_usd': 5,\n",
              " 'gdp_growth_annual_percent': 6,\n",
              " 'agriculture_value_added_percent_gdp': 7,\n",
              " 'industry_value_added_percent_gdp': 8,\n",
              " 'access_to_electricity_percent': 9,\n",
              " 'mobile_cellular_subscriptions_per_100_people': 10,\n",
              " 'health_expenditure_pct_gdp': 11,\n",
              " 'child_mortality_rate': 12,\n",
              " 'co2_emissions_per_capita': 13,\n",
              " 'stability_of_government_estimate': 14,\n",
              " 'corruption_perception_estimate': 15}"
            ]
          },
          "execution_count": 14,
          "metadata": {},
          "output_type": "execute_result"
        }
      ],
      "source": [
        "indicator_mapping"
      ]
    },
    {
      "cell_type": "code",
      "execution_count": 15,
      "metadata": {
        "colab": {
          "base_uri": "https://localhost:8080/",
          "height": 1000
        },
        "id": "ykdvtfpdILI3",
        "outputId": "60fc6fab-393c-4fde-e1f8-057c41e42c27"
      },
      "outputs": [
        {
          "data": {
            "text/html": [
              "<div>\n",
              "<style scoped>\n",
              "    .dataframe tbody tr th:only-of-type {\n",
              "        vertical-align: middle;\n",
              "    }\n",
              "\n",
              "    .dataframe tbody tr th {\n",
              "        vertical-align: top;\n",
              "    }\n",
              "\n",
              "    .dataframe thead th {\n",
              "        text-align: right;\n",
              "    }\n",
              "</style>\n",
              "<table border=\"1\" class=\"dataframe\">\n",
              "  <thead>\n",
              "    <tr style=\"text-align: right;\">\n",
              "      <th></th>\n",
              "      <th>Country Name</th>\n",
              "      <th>Population Total</th>\n",
              "      <th>NA Count</th>\n",
              "      <th>NA Indicators</th>\n",
              "    </tr>\n",
              "  </thead>\n",
              "  <tbody>\n",
              "    <tr>\n",
              "      <th>183</th>\n",
              "      <td>St. Martin (French part)</td>\n",
              "      <td>28870.0</td>\n",
              "      <td>11</td>\n",
              "      <td>[15, 13, 10, 7, 8, 6, 5, 14, 11, 12, 1]</td>\n",
              "    </tr>\n",
              "    <tr>\n",
              "      <th>75</th>\n",
              "      <td>Gibraltar</td>\n",
              "      <td>37609.0</td>\n",
              "      <td>8</td>\n",
              "      <td>[15, 7, 8, 6, 5, 14, 11, 12]</td>\n",
              "    </tr>\n",
              "    <tr>\n",
              "      <th>146</th>\n",
              "      <td>Northern Mariana Islands</td>\n",
              "      <td>46078.0</td>\n",
              "      <td>7</td>\n",
              "      <td>[15, 10, 7, 8, 14, 11, 12]</td>\n",
              "    </tr>\n",
              "    <tr>\n",
              "      <th>172</th>\n",
              "      <td>Sint Maarten (Dutch part)</td>\n",
              "      <td>42139.0</td>\n",
              "      <td>7</td>\n",
              "      <td>[15, 13, 7, 8, 14, 11, 12]</td>\n",
              "    </tr>\n",
              "    <tr>\n",
              "      <th>27</th>\n",
              "      <td>British Virgin Islands</td>\n",
              "      <td>38319.0</td>\n",
              "      <td>7</td>\n",
              "      <td>[15, 7, 8, 6, 5, 14, 11]</td>\n",
              "    </tr>\n",
              "    <tr>\n",
              "      <th>94</th>\n",
              "      <td>Isle of Man</td>\n",
              "      <td>84132.0</td>\n",
              "      <td>6</td>\n",
              "      <td>[15, 13, 10, 14, 11, 12]</td>\n",
              "    </tr>\n",
              "    <tr>\n",
              "      <th>69</th>\n",
              "      <td>French Polynesia</td>\n",
              "      <td>280378.0</td>\n",
              "      <td>6</td>\n",
              "      <td>[15, 7, 8, 14, 11, 12]</td>\n",
              "    </tr>\n",
              "    <tr>\n",
              "      <th>140</th>\n",
              "      <td>New Caledonia</td>\n",
              "      <td>287123.0</td>\n",
              "      <td>6</td>\n",
              "      <td>[15, 7, 8, 14, 11, 12]</td>\n",
              "    </tr>\n",
              "    <tr>\n",
              "      <th>3</th>\n",
              "      <td>American Samoa</td>\n",
              "      <td>48342.0</td>\n",
              "      <td>6</td>\n",
              "      <td>[9, 10, 7, 8, 11, 12]</td>\n",
              "    </tr>\n",
              "    <tr>\n",
              "      <th>39</th>\n",
              "      <td>Channel Islands</td>\n",
              "      <td>167215.0</td>\n",
              "      <td>6</td>\n",
              "      <td>[15, 13, 10, 14, 11, 12]</td>\n",
              "    </tr>\n",
              "    <tr>\n",
              "      <th>50</th>\n",
              "      <td>Curacao</td>\n",
              "      <td>149996.0</td>\n",
              "      <td>5</td>\n",
              "      <td>[15, 13, 14, 11, 12]</td>\n",
              "    </tr>\n",
              "    <tr>\n",
              "      <th>178</th>\n",
              "      <td>South Sudan</td>\n",
              "      <td>11021177.0</td>\n",
              "      <td>5</td>\n",
              "      <td>[13, 7, 8, 6, 5]</td>\n",
              "    </tr>\n",
              "    <tr>\n",
              "      <th>79</th>\n",
              "      <td>Guam</td>\n",
              "      <td>165180.0</td>\n",
              "      <td>5</td>\n",
              "      <td>[10, 7, 8, 11, 12]</td>\n",
              "    </tr>\n",
              "    <tr>\n",
              "      <th>103</th>\n",
              "      <td>Korea, Dem. People's Rep.</td>\n",
              "      <td>26328845.0</td>\n",
              "      <td>5</td>\n",
              "      <td>[7, 8, 6, 5, 11]</td>\n",
              "    </tr>\n",
              "    <tr>\n",
              "      <th>61</th>\n",
              "      <td>Eritrea</td>\n",
              "      <td>3409447.0</td>\n",
              "      <td>4</td>\n",
              "      <td>[7, 8, 6, 5]</td>\n",
              "    </tr>\n",
              "    <tr>\n",
              "      <th>200</th>\n",
              "      <td>Turks and Caicos Islands</td>\n",
              "      <td>45847.0</td>\n",
              "      <td>4</td>\n",
              "      <td>[15, 10, 14, 11]</td>\n",
              "    </tr>\n",
              "    <tr>\n",
              "      <th>210</th>\n",
              "      <td>Venezuela, RB</td>\n",
              "      <td>28213017.0</td>\n",
              "      <td>4</td>\n",
              "      <td>[7, 8, 6, 5]</td>\n",
              "    </tr>\n",
              "    <tr>\n",
              "      <th>212</th>\n",
              "      <td>Virgin Islands (U.S.)</td>\n",
              "      <td>105413.0</td>\n",
              "      <td>4</td>\n",
              "      <td>[7, 8, 11, 12]</td>\n",
              "    </tr>\n",
              "    <tr>\n",
              "      <th>9</th>\n",
              "      <td>Aruba</td>\n",
              "      <td>107310.0</td>\n",
              "      <td>4</td>\n",
              "      <td>[7, 8, 11, 12]</td>\n",
              "    </tr>\n",
              "    <tr>\n",
              "      <th>105</th>\n",
              "      <td>Kosovo</td>\n",
              "      <td>1768096.0</td>\n",
              "      <td>4</td>\n",
              "      <td>[9, 13, 11, 1]</td>\n",
              "    </tr>\n",
              "    <tr>\n",
              "      <th>114</th>\n",
              "      <td>Liechtenstein</td>\n",
              "      <td>39493.0</td>\n",
              "      <td>4</td>\n",
              "      <td>[13, 6, 11, 12]</td>\n",
              "    </tr>\n",
              "    <tr>\n",
              "      <th>65</th>\n",
              "      <td>Faroe Islands</td>\n",
              "      <td>53927.0</td>\n",
              "      <td>4</td>\n",
              "      <td>[15, 14, 11, 12]</td>\n",
              "    </tr>\n",
              "    <tr>\n",
              "      <th>117</th>\n",
              "      <td>Macao SAR, China</td>\n",
              "      <td>677300.0</td>\n",
              "      <td>3</td>\n",
              "      <td>[7, 11, 12]</td>\n",
              "    </tr>\n",
              "    <tr>\n",
              "      <th>214</th>\n",
              "      <td>Yemen, Rep.</td>\n",
              "      <td>38222876.0</td>\n",
              "      <td>3</td>\n",
              "      <td>[7, 8, 6]</td>\n",
              "    </tr>\n",
              "    <tr>\n",
              "      <th>176</th>\n",
              "      <td>Somalia</td>\n",
              "      <td>17801897.0</td>\n",
              "      <td>2</td>\n",
              "      <td>[7, 8]</td>\n",
              "    </tr>\n",
              "    <tr>\n",
              "      <th>21</th>\n",
              "      <td>Bermuda</td>\n",
              "      <td>64749.0</td>\n",
              "      <td>2</td>\n",
              "      <td>[11, 12]</td>\n",
              "    </tr>\n",
              "    <tr>\n",
              "      <th>35</th>\n",
              "      <td>Canada</td>\n",
              "      <td>38935934.0</td>\n",
              "      <td>2</td>\n",
              "      <td>[7, 8]</td>\n",
              "    </tr>\n",
              "    <tr>\n",
              "      <th>201</th>\n",
              "      <td>Tuvalu</td>\n",
              "      <td>9992.0</td>\n",
              "      <td>2</td>\n",
              "      <td>[7, 8]</td>\n",
              "    </tr>\n",
              "    <tr>\n",
              "      <th>36</th>\n",
              "      <td>Cayman Islands</td>\n",
              "      <td>71591.0</td>\n",
              "      <td>2</td>\n",
              "      <td>[11, 12]</td>\n",
              "    </tr>\n",
              "    <tr>\n",
              "      <th>137</th>\n",
              "      <td>Nauru</td>\n",
              "      <td>11801.0</td>\n",
              "      <td>2</td>\n",
              "      <td>[7, 8]</td>\n",
              "    </tr>\n",
              "    <tr>\n",
              "      <th>77</th>\n",
              "      <td>Greenland</td>\n",
              "      <td>56661.0</td>\n",
              "      <td>2</td>\n",
              "      <td>[11, 12]</td>\n",
              "    </tr>\n",
              "    <tr>\n",
              "      <th>86</th>\n",
              "      <td>Hong Kong SAR, China</td>\n",
              "      <td>7346100.0</td>\n",
              "      <td>2</td>\n",
              "      <td>[11, 12]</td>\n",
              "    </tr>\n",
              "    <tr>\n",
              "      <th>158</th>\n",
              "      <td>Puerto Rico (US)</td>\n",
              "      <td>3220137.0</td>\n",
              "      <td>2</td>\n",
              "      <td>[11, 12]</td>\n",
              "    </tr>\n",
              "    <tr>\n",
              "      <th>130</th>\n",
              "      <td>Monaco</td>\n",
              "      <td>38931.0</td>\n",
              "      <td>2</td>\n",
              "      <td>[13, 7]</td>\n",
              "    </tr>\n",
              "    <tr>\n",
              "      <th>168</th>\n",
              "      <td>Serbia</td>\n",
              "      <td>6664449.0</td>\n",
              "      <td>1</td>\n",
              "      <td>[13]</td>\n",
              "    </tr>\n",
              "    <tr>\n",
              "      <th>49</th>\n",
              "      <td>Cuba</td>\n",
              "      <td>11059820.0</td>\n",
              "      <td>1</td>\n",
              "      <td>[5]</td>\n",
              "    </tr>\n",
              "    <tr>\n",
              "      <th>199</th>\n",
              "      <td>Turkmenistan</td>\n",
              "      <td>7230193.0</td>\n",
              "      <td>1</td>\n",
              "      <td>[10]</td>\n",
              "    </tr>\n",
              "    <tr>\n",
              "      <th>164</th>\n",
              "      <td>San Marino</td>\n",
              "      <td>33755.0</td>\n",
              "      <td>1</td>\n",
              "      <td>[13]</td>\n",
              "    </tr>\n",
              "    <tr>\n",
              "      <th>203</th>\n",
              "      <td>Ukraine</td>\n",
              "      <td>41048766.0</td>\n",
              "      <td>1</td>\n",
              "      <td>[11]</td>\n",
              "    </tr>\n",
              "    <tr>\n",
              "      <th>4</th>\n",
              "      <td>Andorra</td>\n",
              "      <td>79705.0</td>\n",
              "      <td>1</td>\n",
              "      <td>[13]</td>\n",
              "    </tr>\n",
              "    <tr>\n",
              "      <th>213</th>\n",
              "      <td>West Bank and Gaza</td>\n",
              "      <td>5043612.0</td>\n",
              "      <td>1</td>\n",
              "      <td>[13]</td>\n",
              "    </tr>\n",
              "    <tr>\n",
              "      <th>132</th>\n",
              "      <td>Montenegro</td>\n",
              "      <td>623591.0</td>\n",
              "      <td>1</td>\n",
              "      <td>[13]</td>\n",
              "    </tr>\n",
              "  </tbody>\n",
              "</table>\n",
              "</div>"
            ],
            "text/plain": [
              "                  Country Name  Population Total  NA Count  \\\n",
              "183   St. Martin (French part)           28870.0        11   \n",
              "75                   Gibraltar           37609.0         8   \n",
              "146   Northern Mariana Islands           46078.0         7   \n",
              "172  Sint Maarten (Dutch part)           42139.0         7   \n",
              "27      British Virgin Islands           38319.0         7   \n",
              "94                 Isle of Man           84132.0         6   \n",
              "69            French Polynesia          280378.0         6   \n",
              "140              New Caledonia          287123.0         6   \n",
              "3               American Samoa           48342.0         6   \n",
              "39             Channel Islands          167215.0         6   \n",
              "50                     Curacao          149996.0         5   \n",
              "178                South Sudan        11021177.0         5   \n",
              "79                        Guam          165180.0         5   \n",
              "103  Korea, Dem. People's Rep.        26328845.0         5   \n",
              "61                     Eritrea         3409447.0         4   \n",
              "200   Turks and Caicos Islands           45847.0         4   \n",
              "210              Venezuela, RB        28213017.0         4   \n",
              "212      Virgin Islands (U.S.)          105413.0         4   \n",
              "9                        Aruba          107310.0         4   \n",
              "105                     Kosovo         1768096.0         4   \n",
              "114              Liechtenstein           39493.0         4   \n",
              "65               Faroe Islands           53927.0         4   \n",
              "117           Macao SAR, China          677300.0         3   \n",
              "214                Yemen, Rep.        38222876.0         3   \n",
              "176                    Somalia        17801897.0         2   \n",
              "21                     Bermuda           64749.0         2   \n",
              "35                      Canada        38935934.0         2   \n",
              "201                     Tuvalu            9992.0         2   \n",
              "36              Cayman Islands           71591.0         2   \n",
              "137                      Nauru           11801.0         2   \n",
              "77                   Greenland           56661.0         2   \n",
              "86        Hong Kong SAR, China         7346100.0         2   \n",
              "158           Puerto Rico (US)         3220137.0         2   \n",
              "130                     Monaco           38931.0         2   \n",
              "168                     Serbia         6664449.0         1   \n",
              "49                        Cuba        11059820.0         1   \n",
              "199               Turkmenistan         7230193.0         1   \n",
              "164                 San Marino           33755.0         1   \n",
              "203                    Ukraine        41048766.0         1   \n",
              "4                      Andorra           79705.0         1   \n",
              "213         West Bank and Gaza         5043612.0         1   \n",
              "132                 Montenegro          623591.0         1   \n",
              "\n",
              "                               NA Indicators  \n",
              "183  [15, 13, 10, 7, 8, 6, 5, 14, 11, 12, 1]  \n",
              "75              [15, 7, 8, 6, 5, 14, 11, 12]  \n",
              "146               [15, 10, 7, 8, 14, 11, 12]  \n",
              "172               [15, 13, 7, 8, 14, 11, 12]  \n",
              "27                  [15, 7, 8, 6, 5, 14, 11]  \n",
              "94                  [15, 13, 10, 14, 11, 12]  \n",
              "69                    [15, 7, 8, 14, 11, 12]  \n",
              "140                   [15, 7, 8, 14, 11, 12]  \n",
              "3                      [9, 10, 7, 8, 11, 12]  \n",
              "39                  [15, 13, 10, 14, 11, 12]  \n",
              "50                      [15, 13, 14, 11, 12]  \n",
              "178                         [13, 7, 8, 6, 5]  \n",
              "79                        [10, 7, 8, 11, 12]  \n",
              "103                         [7, 8, 6, 5, 11]  \n",
              "61                              [7, 8, 6, 5]  \n",
              "200                         [15, 10, 14, 11]  \n",
              "210                             [7, 8, 6, 5]  \n",
              "212                           [7, 8, 11, 12]  \n",
              "9                             [7, 8, 11, 12]  \n",
              "105                           [9, 13, 11, 1]  \n",
              "114                          [13, 6, 11, 12]  \n",
              "65                          [15, 14, 11, 12]  \n",
              "117                              [7, 11, 12]  \n",
              "214                                [7, 8, 6]  \n",
              "176                                   [7, 8]  \n",
              "21                                  [11, 12]  \n",
              "35                                    [7, 8]  \n",
              "201                                   [7, 8]  \n",
              "36                                  [11, 12]  \n",
              "137                                   [7, 8]  \n",
              "77                                  [11, 12]  \n",
              "86                                  [11, 12]  \n",
              "158                                 [11, 12]  \n",
              "130                                  [13, 7]  \n",
              "168                                     [13]  \n",
              "49                                       [5]  \n",
              "199                                     [10]  \n",
              "164                                     [13]  \n",
              "203                                     [11]  \n",
              "4                                       [13]  \n",
              "213                                     [13]  \n",
              "132                                     [13]  "
            ]
          },
          "execution_count": 15,
          "metadata": {},
          "output_type": "execute_result"
        }
      ],
      "source": [
        "na_countries"
      ]
    },
    {
      "cell_type": "markdown",
      "metadata": {
        "id": "PzyPJGfoT-Bf"
      },
      "source": [
        "### World map vision"
      ]
    },
    {
      "cell_type": "code",
      "execution_count": 16,
      "metadata": {
        "colab": {
          "base_uri": "https://localhost:8080/",
          "height": 542
        },
        "id": "g0DN4FKVSxSP",
        "outputId": "df36328a-e0e1-43d0-ae93-3777ba34a6b0"
      },
      "outputs": [
        {
          "data": {
            "application/vnd.plotly.v1+json": {
              "config": {
                "plotlyServerURL": "https://plot.ly"
              },
              "data": [
                {
                  "coloraxis": "coloraxis",
                  "geo": "geo",
                  "hovertemplate": "<b>%{hovertext}</b><br><br>Country Code=%{location}<br>2022=%{z}<extra></extra>",
                  "hovertext": [
                    "Afghanistan",
                    "Albania",
                    "Algeria",
                    "American Samoa",
                    "Andorra",
                    "Angola",
                    "Antigua and Barbuda",
                    "Argentina",
                    "Armenia",
                    "Aruba",
                    "Australia",
                    "Austria",
                    "Azerbaijan",
                    "Bahamas, The",
                    "Bahrain",
                    "Bangladesh",
                    "Barbados",
                    "Belarus",
                    "Belgium",
                    "Belize",
                    "Benin",
                    "Bermuda",
                    "Bhutan",
                    "Bolivia",
                    "Bosnia and Herzegovina",
                    "Botswana",
                    "Brazil",
                    "British Virgin Islands",
                    "Brunei Darussalam",
                    "Bulgaria",
                    "Burkina Faso",
                    "Burundi",
                    "Cabo Verde",
                    "Cambodia",
                    "Cameroon",
                    "Canada",
                    "Cayman Islands",
                    "Central African Republic",
                    "Chad",
                    "Channel Islands",
                    "Chile",
                    "China",
                    "Colombia",
                    "Comoros",
                    "Congo, Dem. Rep.",
                    "Congo, Rep.",
                    "Costa Rica",
                    "Cote d'Ivoire",
                    "Croatia",
                    "Cuba",
                    "Curacao",
                    "Cyprus",
                    "Czechia",
                    "Denmark",
                    "Djibouti",
                    "Dominica",
                    "Dominican Republic",
                    "Ecuador",
                    "Egypt, Arab Rep.",
                    "El Salvador",
                    "Equatorial Guinea",
                    "Eritrea",
                    "Estonia",
                    "Eswatini",
                    "Ethiopia",
                    "Faroe Islands",
                    "Fiji",
                    "Finland",
                    "France",
                    "French Polynesia",
                    "Gabon",
                    "Gambia, The",
                    "Georgia",
                    "Germany",
                    "Ghana",
                    "Gibraltar",
                    "Greece",
                    "Greenland",
                    "Grenada",
                    "Guam",
                    "Guatemala",
                    "Guinea",
                    "Guinea-Bissau",
                    "Guyana",
                    "Haiti",
                    "Honduras",
                    "Hong Kong SAR, China",
                    "Hungary",
                    "Iceland",
                    "India",
                    "Indonesia",
                    "Iran, Islamic Rep.",
                    "Iraq",
                    "Ireland",
                    "Isle of Man",
                    "Israel",
                    "Italy",
                    "Jamaica",
                    "Japan",
                    "Jordan",
                    "Kazakhstan",
                    "Kenya",
                    "Kiribati",
                    "Korea, Dem. People's Rep.",
                    "Korea, Rep.",
                    "Kosovo",
                    "Kuwait",
                    "Kyrgyz Republic",
                    "Lao PDR",
                    "Latvia",
                    "Lebanon",
                    "Lesotho",
                    "Liberia",
                    "Libya",
                    "Liechtenstein",
                    "Lithuania",
                    "Luxembourg",
                    "Macao SAR, China",
                    "Madagascar",
                    "Malawi",
                    "Malaysia",
                    "Maldives",
                    "Mali",
                    "Malta",
                    "Marshall Islands",
                    "Mauritania",
                    "Mauritius",
                    "Mexico",
                    "Micronesia, Fed. Sts.",
                    "Moldova",
                    "Monaco",
                    "Mongolia",
                    "Montenegro",
                    "Morocco",
                    "Mozambique",
                    "Myanmar",
                    "Namibia",
                    "Nauru",
                    "Nepal",
                    "Netherlands",
                    "New Caledonia",
                    "New Zealand",
                    "Nicaragua",
                    "Niger",
                    "Nigeria",
                    "North Macedonia",
                    "Northern Mariana Islands",
                    "Norway",
                    "Oman",
                    "Pakistan",
                    "Palau",
                    "Panama",
                    "Papua New Guinea",
                    "Paraguay",
                    "Peru",
                    "Philippines",
                    "Poland",
                    "Portugal",
                    "Puerto Rico (US)",
                    "Qatar",
                    "Romania",
                    "Russian Federation",
                    "Rwanda",
                    "Samoa",
                    "San Marino",
                    "Sao Tome and Principe",
                    "Saudi Arabia",
                    "Senegal",
                    "Serbia",
                    "Seychelles",
                    "Sierra Leone",
                    "Singapore",
                    "Sint Maarten (Dutch part)",
                    "Slovak Republic",
                    "Slovenia",
                    "Solomon Islands",
                    "Somalia",
                    "South Africa",
                    "South Sudan",
                    "Spain",
                    "Sri Lanka",
                    "St. Kitts and Nevis",
                    "St. Lucia",
                    "St. Martin (French part)",
                    "St. Vincent and the Grenadines",
                    "Sudan",
                    "Suriname",
                    "Sweden",
                    "Switzerland",
                    "Syrian Arab Republic",
                    "Tajikistan",
                    "Tanzania",
                    "Thailand",
                    "Timor-Leste",
                    "Togo",
                    "Tonga",
                    "Trinidad and Tobago",
                    "Tunisia",
                    "Turkiye",
                    "Turkmenistan",
                    "Turks and Caicos Islands",
                    "Tuvalu",
                    "Uganda",
                    "Ukraine",
                    "United Arab Emirates",
                    "United Kingdom",
                    "United States",
                    "Uruguay",
                    "Uzbekistan",
                    "Vanuatu",
                    "Venezuela, RB",
                    "Viet Nam",
                    "Virgin Islands (U.S.)",
                    "West Bank and Gaza",
                    "Yemen, Rep.",
                    "Zambia",
                    "Zimbabwe"
                  ],
                  "locations": [
                    "AFG",
                    "ALB",
                    "DZA",
                    "ASM",
                    "AND",
                    "AGO",
                    "ATG",
                    "ARG",
                    "ARM",
                    "ABW",
                    "AUS",
                    "AUT",
                    "AZE",
                    "BHS",
                    "BHR",
                    "BGD",
                    "BRB",
                    "BLR",
                    "BEL",
                    "BLZ",
                    "BEN",
                    "BMU",
                    "BTN",
                    "BOL",
                    "BIH",
                    "BWA",
                    "BRA",
                    "VGB",
                    "BRN",
                    "BGR",
                    "BFA",
                    "BDI",
                    "CPV",
                    "KHM",
                    "CMR",
                    "CAN",
                    "CYM",
                    "CAF",
                    "TCD",
                    "CHI",
                    "CHL",
                    "CHN",
                    "COL",
                    "COM",
                    "COD",
                    "COG",
                    "CRI",
                    "CIV",
                    "HRV",
                    "CUB",
                    "CUW",
                    "CYP",
                    "CZE",
                    "DNK",
                    "DJI",
                    "DMA",
                    "DOM",
                    "ECU",
                    "EGY",
                    "SLV",
                    "GNQ",
                    "ERI",
                    "EST",
                    "SWZ",
                    "ETH",
                    "FRO",
                    "FJI",
                    "FIN",
                    "FRA",
                    "PYF",
                    "GAB",
                    "GMB",
                    "GEO",
                    "DEU",
                    "GHA",
                    "GIB",
                    "GRC",
                    "GRL",
                    "GRD",
                    "GUM",
                    "GTM",
                    "GIN",
                    "GNB",
                    "GUY",
                    "HTI",
                    "HND",
                    "HKG",
                    "HUN",
                    "ISL",
                    "IND",
                    "IDN",
                    "IRN",
                    "IRQ",
                    "IRL",
                    "IMN",
                    "ISR",
                    "ITA",
                    "JAM",
                    "JPN",
                    "JOR",
                    "KAZ",
                    "KEN",
                    "KIR",
                    "PRK",
                    "KOR",
                    "XKX",
                    "KWT",
                    "KGZ",
                    "LAO",
                    "LVA",
                    "LBN",
                    "LSO",
                    "LBR",
                    "LBY",
                    "LIE",
                    "LTU",
                    "LUX",
                    "MAC",
                    "MDG",
                    "MWI",
                    "MYS",
                    "MDV",
                    "MLI",
                    "MLT",
                    "MHL",
                    "MRT",
                    "MUS",
                    "MEX",
                    "FSM",
                    "MDA",
                    "MCO",
                    "MNG",
                    "MNE",
                    "MAR",
                    "MOZ",
                    "MMR",
                    "NAM",
                    "NRU",
                    "NPL",
                    "NLD",
                    "NCL",
                    "NZL",
                    "NIC",
                    "NER",
                    "NGA",
                    "MKD",
                    "MNP",
                    "NOR",
                    "OMN",
                    "PAK",
                    "PLW",
                    "PAN",
                    "PNG",
                    "PRY",
                    "PER",
                    "PHL",
                    "POL",
                    "PRT",
                    "PRI",
                    "QAT",
                    "ROU",
                    "RUS",
                    "RWA",
                    "WSM",
                    "SMR",
                    "STP",
                    "SAU",
                    "SEN",
                    "SRB",
                    "SYC",
                    "SLE",
                    "SGP",
                    "SXM",
                    "SVK",
                    "SVN",
                    "SLB",
                    "SOM",
                    "ZAF",
                    "SSD",
                    "ESP",
                    "LKA",
                    "KNA",
                    "LCA",
                    "MAF",
                    "VCT",
                    "SDN",
                    "SUR",
                    "SWE",
                    "CHE",
                    "SYR",
                    "TJK",
                    "TZA",
                    "THA",
                    "TLS",
                    "TGO",
                    "TON",
                    "TTO",
                    "TUN",
                    "TUR",
                    "TKM",
                    "TCA",
                    "TUV",
                    "UGA",
                    "UKR",
                    "ARE",
                    "GBR",
                    "USA",
                    "URY",
                    "UZB",
                    "VUT",
                    "VEN",
                    "VNM",
                    "VIR",
                    "PSE",
                    "YEM",
                    "ZMB",
                    "ZWE"
                  ],
                  "name": "",
                  "type": "choropleth",
                  "z": [
                    0,
                    0,
                    0,
                    6,
                    1,
                    0,
                    0,
                    0,
                    0,
                    4,
                    0,
                    0,
                    0,
                    0,
                    0,
                    0,
                    0,
                    0,
                    0,
                    0,
                    0,
                    2,
                    0,
                    0,
                    0,
                    0,
                    0,
                    7,
                    0,
                    0,
                    0,
                    0,
                    0,
                    0,
                    0,
                    2,
                    2,
                    0,
                    0,
                    6,
                    0,
                    0,
                    0,
                    0,
                    0,
                    0,
                    0,
                    0,
                    0,
                    1,
                    5,
                    0,
                    0,
                    0,
                    0,
                    0,
                    0,
                    0,
                    0,
                    0,
                    0,
                    4,
                    0,
                    0,
                    0,
                    4,
                    0,
                    0,
                    0,
                    6,
                    0,
                    0,
                    0,
                    0,
                    0,
                    8,
                    0,
                    2,
                    0,
                    5,
                    0,
                    0,
                    0,
                    0,
                    0,
                    0,
                    2,
                    0,
                    0,
                    0,
                    0,
                    0,
                    0,
                    0,
                    6,
                    0,
                    0,
                    0,
                    0,
                    0,
                    0,
                    0,
                    0,
                    5,
                    0,
                    4,
                    0,
                    0,
                    0,
                    0,
                    0,
                    0,
                    0,
                    0,
                    4,
                    0,
                    0,
                    3,
                    0,
                    0,
                    0,
                    0,
                    0,
                    0,
                    0,
                    0,
                    0,
                    0,
                    0,
                    0,
                    2,
                    0,
                    1,
                    0,
                    0,
                    0,
                    0,
                    2,
                    0,
                    0,
                    6,
                    0,
                    0,
                    0,
                    0,
                    0,
                    7,
                    0,
                    0,
                    0,
                    0,
                    0,
                    0,
                    0,
                    0,
                    0,
                    0,
                    0,
                    2,
                    0,
                    0,
                    0,
                    0,
                    0,
                    1,
                    0,
                    0,
                    0,
                    1,
                    0,
                    0,
                    0,
                    7,
                    0,
                    0,
                    0,
                    2,
                    0,
                    5,
                    0,
                    0,
                    0,
                    0,
                    11,
                    0,
                    0,
                    0,
                    0,
                    0,
                    0,
                    0,
                    0,
                    0,
                    0,
                    0,
                    0,
                    0,
                    0,
                    0,
                    1,
                    4,
                    2,
                    0,
                    1,
                    0,
                    0,
                    0,
                    0,
                    0,
                    0,
                    4,
                    0,
                    4,
                    1,
                    3,
                    0,
                    0
                  ]
                }
              ],
              "layout": {
                "coloraxis": {
                  "colorbar": {
                    "title": {
                      "text": "2022"
                    }
                  },
                  "colorscale": [
                    [
                      0,
                      "rgb(255,245,240)"
                    ],
                    [
                      0.125,
                      "rgb(254,224,210)"
                    ],
                    [
                      0.25,
                      "rgb(252,187,161)"
                    ],
                    [
                      0.375,
                      "rgb(252,146,114)"
                    ],
                    [
                      0.5,
                      "rgb(251,106,74)"
                    ],
                    [
                      0.625,
                      "rgb(239,59,44)"
                    ],
                    [
                      0.75,
                      "rgb(203,24,29)"
                    ],
                    [
                      0.875,
                      "rgb(165,15,21)"
                    ],
                    [
                      1,
                      "rgb(103,0,13)"
                    ]
                  ]
                },
                "geo": {
                  "center": {},
                  "domain": {
                    "x": [
                      0,
                      1
                    ],
                    "y": [
                      0,
                      1
                    ]
                  }
                },
                "legend": {
                  "tracegroupgap": 0
                },
                "template": {
                  "data": {
                    "bar": [
                      {
                        "error_x": {
                          "color": "#2a3f5f"
                        },
                        "error_y": {
                          "color": "#2a3f5f"
                        },
                        "marker": {
                          "line": {
                            "color": "#E5ECF6",
                            "width": 0.5
                          },
                          "pattern": {
                            "fillmode": "overlay",
                            "size": 10,
                            "solidity": 0.2
                          }
                        },
                        "type": "bar"
                      }
                    ],
                    "barpolar": [
                      {
                        "marker": {
                          "line": {
                            "color": "#E5ECF6",
                            "width": 0.5
                          },
                          "pattern": {
                            "fillmode": "overlay",
                            "size": 10,
                            "solidity": 0.2
                          }
                        },
                        "type": "barpolar"
                      }
                    ],
                    "carpet": [
                      {
                        "aaxis": {
                          "endlinecolor": "#2a3f5f",
                          "gridcolor": "white",
                          "linecolor": "white",
                          "minorgridcolor": "white",
                          "startlinecolor": "#2a3f5f"
                        },
                        "baxis": {
                          "endlinecolor": "#2a3f5f",
                          "gridcolor": "white",
                          "linecolor": "white",
                          "minorgridcolor": "white",
                          "startlinecolor": "#2a3f5f"
                        },
                        "type": "carpet"
                      }
                    ],
                    "choropleth": [
                      {
                        "colorbar": {
                          "outlinewidth": 0,
                          "ticks": ""
                        },
                        "type": "choropleth"
                      }
                    ],
                    "contour": [
                      {
                        "colorbar": {
                          "outlinewidth": 0,
                          "ticks": ""
                        },
                        "colorscale": [
                          [
                            0,
                            "#0d0887"
                          ],
                          [
                            0.1111111111111111,
                            "#46039f"
                          ],
                          [
                            0.2222222222222222,
                            "#7201a8"
                          ],
                          [
                            0.3333333333333333,
                            "#9c179e"
                          ],
                          [
                            0.4444444444444444,
                            "#bd3786"
                          ],
                          [
                            0.5555555555555556,
                            "#d8576b"
                          ],
                          [
                            0.6666666666666666,
                            "#ed7953"
                          ],
                          [
                            0.7777777777777778,
                            "#fb9f3a"
                          ],
                          [
                            0.8888888888888888,
                            "#fdca26"
                          ],
                          [
                            1,
                            "#f0f921"
                          ]
                        ],
                        "type": "contour"
                      }
                    ],
                    "contourcarpet": [
                      {
                        "colorbar": {
                          "outlinewidth": 0,
                          "ticks": ""
                        },
                        "type": "contourcarpet"
                      }
                    ],
                    "heatmap": [
                      {
                        "colorbar": {
                          "outlinewidth": 0,
                          "ticks": ""
                        },
                        "colorscale": [
                          [
                            0,
                            "#0d0887"
                          ],
                          [
                            0.1111111111111111,
                            "#46039f"
                          ],
                          [
                            0.2222222222222222,
                            "#7201a8"
                          ],
                          [
                            0.3333333333333333,
                            "#9c179e"
                          ],
                          [
                            0.4444444444444444,
                            "#bd3786"
                          ],
                          [
                            0.5555555555555556,
                            "#d8576b"
                          ],
                          [
                            0.6666666666666666,
                            "#ed7953"
                          ],
                          [
                            0.7777777777777778,
                            "#fb9f3a"
                          ],
                          [
                            0.8888888888888888,
                            "#fdca26"
                          ],
                          [
                            1,
                            "#f0f921"
                          ]
                        ],
                        "type": "heatmap"
                      }
                    ],
                    "heatmapgl": [
                      {
                        "colorbar": {
                          "outlinewidth": 0,
                          "ticks": ""
                        },
                        "colorscale": [
                          [
                            0,
                            "#0d0887"
                          ],
                          [
                            0.1111111111111111,
                            "#46039f"
                          ],
                          [
                            0.2222222222222222,
                            "#7201a8"
                          ],
                          [
                            0.3333333333333333,
                            "#9c179e"
                          ],
                          [
                            0.4444444444444444,
                            "#bd3786"
                          ],
                          [
                            0.5555555555555556,
                            "#d8576b"
                          ],
                          [
                            0.6666666666666666,
                            "#ed7953"
                          ],
                          [
                            0.7777777777777778,
                            "#fb9f3a"
                          ],
                          [
                            0.8888888888888888,
                            "#fdca26"
                          ],
                          [
                            1,
                            "#f0f921"
                          ]
                        ],
                        "type": "heatmapgl"
                      }
                    ],
                    "histogram": [
                      {
                        "marker": {
                          "pattern": {
                            "fillmode": "overlay",
                            "size": 10,
                            "solidity": 0.2
                          }
                        },
                        "type": "histogram"
                      }
                    ],
                    "histogram2d": [
                      {
                        "colorbar": {
                          "outlinewidth": 0,
                          "ticks": ""
                        },
                        "colorscale": [
                          [
                            0,
                            "#0d0887"
                          ],
                          [
                            0.1111111111111111,
                            "#46039f"
                          ],
                          [
                            0.2222222222222222,
                            "#7201a8"
                          ],
                          [
                            0.3333333333333333,
                            "#9c179e"
                          ],
                          [
                            0.4444444444444444,
                            "#bd3786"
                          ],
                          [
                            0.5555555555555556,
                            "#d8576b"
                          ],
                          [
                            0.6666666666666666,
                            "#ed7953"
                          ],
                          [
                            0.7777777777777778,
                            "#fb9f3a"
                          ],
                          [
                            0.8888888888888888,
                            "#fdca26"
                          ],
                          [
                            1,
                            "#f0f921"
                          ]
                        ],
                        "type": "histogram2d"
                      }
                    ],
                    "histogram2dcontour": [
                      {
                        "colorbar": {
                          "outlinewidth": 0,
                          "ticks": ""
                        },
                        "colorscale": [
                          [
                            0,
                            "#0d0887"
                          ],
                          [
                            0.1111111111111111,
                            "#46039f"
                          ],
                          [
                            0.2222222222222222,
                            "#7201a8"
                          ],
                          [
                            0.3333333333333333,
                            "#9c179e"
                          ],
                          [
                            0.4444444444444444,
                            "#bd3786"
                          ],
                          [
                            0.5555555555555556,
                            "#d8576b"
                          ],
                          [
                            0.6666666666666666,
                            "#ed7953"
                          ],
                          [
                            0.7777777777777778,
                            "#fb9f3a"
                          ],
                          [
                            0.8888888888888888,
                            "#fdca26"
                          ],
                          [
                            1,
                            "#f0f921"
                          ]
                        ],
                        "type": "histogram2dcontour"
                      }
                    ],
                    "mesh3d": [
                      {
                        "colorbar": {
                          "outlinewidth": 0,
                          "ticks": ""
                        },
                        "type": "mesh3d"
                      }
                    ],
                    "parcoords": [
                      {
                        "line": {
                          "colorbar": {
                            "outlinewidth": 0,
                            "ticks": ""
                          }
                        },
                        "type": "parcoords"
                      }
                    ],
                    "pie": [
                      {
                        "automargin": true,
                        "type": "pie"
                      }
                    ],
                    "scatter": [
                      {
                        "fillpattern": {
                          "fillmode": "overlay",
                          "size": 10,
                          "solidity": 0.2
                        },
                        "type": "scatter"
                      }
                    ],
                    "scatter3d": [
                      {
                        "line": {
                          "colorbar": {
                            "outlinewidth": 0,
                            "ticks": ""
                          }
                        },
                        "marker": {
                          "colorbar": {
                            "outlinewidth": 0,
                            "ticks": ""
                          }
                        },
                        "type": "scatter3d"
                      }
                    ],
                    "scattercarpet": [
                      {
                        "marker": {
                          "colorbar": {
                            "outlinewidth": 0,
                            "ticks": ""
                          }
                        },
                        "type": "scattercarpet"
                      }
                    ],
                    "scattergeo": [
                      {
                        "marker": {
                          "colorbar": {
                            "outlinewidth": 0,
                            "ticks": ""
                          }
                        },
                        "type": "scattergeo"
                      }
                    ],
                    "scattergl": [
                      {
                        "marker": {
                          "colorbar": {
                            "outlinewidth": 0,
                            "ticks": ""
                          }
                        },
                        "type": "scattergl"
                      }
                    ],
                    "scattermapbox": [
                      {
                        "marker": {
                          "colorbar": {
                            "outlinewidth": 0,
                            "ticks": ""
                          }
                        },
                        "type": "scattermapbox"
                      }
                    ],
                    "scatterpolar": [
                      {
                        "marker": {
                          "colorbar": {
                            "outlinewidth": 0,
                            "ticks": ""
                          }
                        },
                        "type": "scatterpolar"
                      }
                    ],
                    "scatterpolargl": [
                      {
                        "marker": {
                          "colorbar": {
                            "outlinewidth": 0,
                            "ticks": ""
                          }
                        },
                        "type": "scatterpolargl"
                      }
                    ],
                    "scatterternary": [
                      {
                        "marker": {
                          "colorbar": {
                            "outlinewidth": 0,
                            "ticks": ""
                          }
                        },
                        "type": "scatterternary"
                      }
                    ],
                    "surface": [
                      {
                        "colorbar": {
                          "outlinewidth": 0,
                          "ticks": ""
                        },
                        "colorscale": [
                          [
                            0,
                            "#0d0887"
                          ],
                          [
                            0.1111111111111111,
                            "#46039f"
                          ],
                          [
                            0.2222222222222222,
                            "#7201a8"
                          ],
                          [
                            0.3333333333333333,
                            "#9c179e"
                          ],
                          [
                            0.4444444444444444,
                            "#bd3786"
                          ],
                          [
                            0.5555555555555556,
                            "#d8576b"
                          ],
                          [
                            0.6666666666666666,
                            "#ed7953"
                          ],
                          [
                            0.7777777777777778,
                            "#fb9f3a"
                          ],
                          [
                            0.8888888888888888,
                            "#fdca26"
                          ],
                          [
                            1,
                            "#f0f921"
                          ]
                        ],
                        "type": "surface"
                      }
                    ],
                    "table": [
                      {
                        "cells": {
                          "fill": {
                            "color": "#EBF0F8"
                          },
                          "line": {
                            "color": "white"
                          }
                        },
                        "header": {
                          "fill": {
                            "color": "#C8D4E3"
                          },
                          "line": {
                            "color": "white"
                          }
                        },
                        "type": "table"
                      }
                    ]
                  },
                  "layout": {
                    "annotationdefaults": {
                      "arrowcolor": "#2a3f5f",
                      "arrowhead": 0,
                      "arrowwidth": 1
                    },
                    "autotypenumbers": "strict",
                    "coloraxis": {
                      "colorbar": {
                        "outlinewidth": 0,
                        "ticks": ""
                      }
                    },
                    "colorscale": {
                      "diverging": [
                        [
                          0,
                          "#8e0152"
                        ],
                        [
                          0.1,
                          "#c51b7d"
                        ],
                        [
                          0.2,
                          "#de77ae"
                        ],
                        [
                          0.3,
                          "#f1b6da"
                        ],
                        [
                          0.4,
                          "#fde0ef"
                        ],
                        [
                          0.5,
                          "#f7f7f7"
                        ],
                        [
                          0.6,
                          "#e6f5d0"
                        ],
                        [
                          0.7,
                          "#b8e186"
                        ],
                        [
                          0.8,
                          "#7fbc41"
                        ],
                        [
                          0.9,
                          "#4d9221"
                        ],
                        [
                          1,
                          "#276419"
                        ]
                      ],
                      "sequential": [
                        [
                          0,
                          "#0d0887"
                        ],
                        [
                          0.1111111111111111,
                          "#46039f"
                        ],
                        [
                          0.2222222222222222,
                          "#7201a8"
                        ],
                        [
                          0.3333333333333333,
                          "#9c179e"
                        ],
                        [
                          0.4444444444444444,
                          "#bd3786"
                        ],
                        [
                          0.5555555555555556,
                          "#d8576b"
                        ],
                        [
                          0.6666666666666666,
                          "#ed7953"
                        ],
                        [
                          0.7777777777777778,
                          "#fb9f3a"
                        ],
                        [
                          0.8888888888888888,
                          "#fdca26"
                        ],
                        [
                          1,
                          "#f0f921"
                        ]
                      ],
                      "sequentialminus": [
                        [
                          0,
                          "#0d0887"
                        ],
                        [
                          0.1111111111111111,
                          "#46039f"
                        ],
                        [
                          0.2222222222222222,
                          "#7201a8"
                        ],
                        [
                          0.3333333333333333,
                          "#9c179e"
                        ],
                        [
                          0.4444444444444444,
                          "#bd3786"
                        ],
                        [
                          0.5555555555555556,
                          "#d8576b"
                        ],
                        [
                          0.6666666666666666,
                          "#ed7953"
                        ],
                        [
                          0.7777777777777778,
                          "#fb9f3a"
                        ],
                        [
                          0.8888888888888888,
                          "#fdca26"
                        ],
                        [
                          1,
                          "#f0f921"
                        ]
                      ]
                    },
                    "colorway": [
                      "#636efa",
                      "#EF553B",
                      "#00cc96",
                      "#ab63fa",
                      "#FFA15A",
                      "#19d3f3",
                      "#FF6692",
                      "#B6E880",
                      "#FF97FF",
                      "#FECB52"
                    ],
                    "font": {
                      "color": "#2a3f5f"
                    },
                    "geo": {
                      "bgcolor": "white",
                      "lakecolor": "white",
                      "landcolor": "#E5ECF6",
                      "showlakes": true,
                      "showland": true,
                      "subunitcolor": "white"
                    },
                    "hoverlabel": {
                      "align": "left"
                    },
                    "hovermode": "closest",
                    "mapbox": {
                      "style": "light"
                    },
                    "paper_bgcolor": "white",
                    "plot_bgcolor": "#E5ECF6",
                    "polar": {
                      "angularaxis": {
                        "gridcolor": "white",
                        "linecolor": "white",
                        "ticks": ""
                      },
                      "bgcolor": "#E5ECF6",
                      "radialaxis": {
                        "gridcolor": "white",
                        "linecolor": "white",
                        "ticks": ""
                      }
                    },
                    "scene": {
                      "xaxis": {
                        "backgroundcolor": "#E5ECF6",
                        "gridcolor": "white",
                        "gridwidth": 2,
                        "linecolor": "white",
                        "showbackground": true,
                        "ticks": "",
                        "zerolinecolor": "white"
                      },
                      "yaxis": {
                        "backgroundcolor": "#E5ECF6",
                        "gridcolor": "white",
                        "gridwidth": 2,
                        "linecolor": "white",
                        "showbackground": true,
                        "ticks": "",
                        "zerolinecolor": "white"
                      },
                      "zaxis": {
                        "backgroundcolor": "#E5ECF6",
                        "gridcolor": "white",
                        "gridwidth": 2,
                        "linecolor": "white",
                        "showbackground": true,
                        "ticks": "",
                        "zerolinecolor": "white"
                      }
                    },
                    "shapedefaults": {
                      "line": {
                        "color": "#2a3f5f"
                      }
                    },
                    "ternary": {
                      "aaxis": {
                        "gridcolor": "white",
                        "linecolor": "white",
                        "ticks": ""
                      },
                      "baxis": {
                        "gridcolor": "white",
                        "linecolor": "white",
                        "ticks": ""
                      },
                      "bgcolor": "#E5ECF6",
                      "caxis": {
                        "gridcolor": "white",
                        "linecolor": "white",
                        "ticks": ""
                      }
                    },
                    "title": {
                      "x": 0.05
                    },
                    "xaxis": {
                      "automargin": true,
                      "gridcolor": "white",
                      "linecolor": "white",
                      "ticks": "",
                      "title": {
                        "standoff": 15
                      },
                      "zerolinecolor": "white",
                      "zerolinewidth": 2
                    },
                    "yaxis": {
                      "automargin": true,
                      "gridcolor": "white",
                      "linecolor": "white",
                      "ticks": "",
                      "title": {
                        "standoff": 15
                      },
                      "zerolinecolor": "white",
                      "zerolinewidth": 2
                    }
                  }
                },
                "title": {
                  "text": "Absolute NaN values for each country in 2022"
                }
              }
            }
          },
          "metadata": {},
          "output_type": "display_data"
        }
      ],
      "source": [
        "year_columns = [col for col in df_21century.columns if col.isdigit()]\n",
        "\n",
        "nan_count_by_country_year = df_21century.groupby('Country Name')[year_columns].apply(\n",
        "    lambda x: x.isnull().sum()\n",
        ")\n",
        "\n",
        "nan_2022 = nan_count_by_country_year[\"2022\"].reset_index()\n",
        "\n",
        "nan_2022 = df_21century[[\"Country Name\", \"Country Code\"]].drop_duplicates().merge(\n",
        "    nan_2022, on=\"Country Name\", how=\"right\"\n",
        ")\n",
        "\n",
        "fig = px.choropleth(\n",
        "    nan_2022,\n",
        "    locations=\"Country Code\",\n",
        "    color=\"2022\",\n",
        "    hover_name=\"Country Name\",\n",
        "    color_continuous_scale=\"Reds\",\n",
        "    title=\"Absolute NaN values for each country in 2022\"\n",
        ")\n",
        "\n",
        "fig.show()"
      ]
    },
    {
      "cell_type": "markdown",
      "metadata": {
        "id": "onYPl8CwUTRc"
      },
      "source": [
        "### Remove countries with 5 or more NaN values"
      ]
    },
    {
      "cell_type": "code",
      "execution_count": 17,
      "metadata": {
        "id": "s8V1aDSN9901"
      },
      "outputs": [],
      "source": [
        "countries_to_remove = na_countries[na_countries[\"NA Count\"] > 4]\n",
        "countries_to_remove_list = countries_to_remove[\"Country Name\"].tolist()\n",
        "df_final = df_2022[~df_2022[\"Country Name\"].isin(countries_to_remove_list)].reset_index(drop=True)"
      ]
    },
    {
      "cell_type": "markdown",
      "metadata": {
        "id": "Rv_9QxAcUad-"
      },
      "source": [
        "### Imputing values in the rest of the countries"
      ]
    },
    {
      "cell_type": "code",
      "execution_count": null,
      "metadata": {
        "id": "7YQlFJlkBfo6"
      },
      "outputs": [],
      "source": [
        "cols_identification = ['Country Name', 'Country Code', 'Region']\n",
        "cols_indicators = [col for col in df_2022.columns if col not in cols_identification]\n",
        "\n",
        "df_identification = df_2022[cols_identification]\n",
        "df_indicators = df_2022[cols_indicators]\n",
        "\n",
        "scaler = StandardScaler()\n",
        "data_scaled = scaler.fit_transform(df_indicators)\n",
        "df_scaled = pd.DataFrame(data_scaled, columns=cols_indicators, index=df_indicators.index)\n",
        "\n",
        "imputer = KNNImputer(n_neighbors=5)\n",
        "data_imputed_scaled = imputer.fit_transform(df_scaled)\n",
        "df_imputed_scaled = pd.DataFrame(data_imputed_scaled, columns=cols_indicators, index=df_indicators.index)\n",
        "\n",
        "data_imputed_original = scaler.inverse_transform(df_imputed_scaled)\n",
        "df_imputed_final = pd.DataFrame(data_imputed_original, columns=cols_indicators, index=df_indicators.index)\n",
        "df_final = pd.concat([df_identification, df_imputed_final], axis=1)"
      ]
    },
    {
      "cell_type": "markdown",
      "metadata": {
        "id": "yB0EhPxTzRCK"
      },
      "source": [
        "### Last Check for Null Values"
      ]
    },
    {
      "cell_type": "code",
      "execution_count": 19,
      "metadata": {
        "colab": {
          "base_uri": "https://localhost:8080/",
          "height": 679
        },
        "id": "ExG1wvlvB6Ph",
        "outputId": "ed6ccb7a-e6c6-489e-f021-51d005a56af5"
      },
      "outputs": [
        {
          "data": {
            "text/plain": [
              "Country Name                                    0\n",
              "Country Code                                    0\n",
              "Region                                          0\n",
              "corruption_perception_estimate                  0\n",
              "access_to_electricity_percent                   0\n",
              "co2_emissions_per_capita                        0\n",
              "mobile_cellular_subscriptions_per_100_people    0\n",
              "agriculture_value_added_percent_gdp             0\n",
              "industry_value_added_percent_gdp                0\n",
              "gdp_growth_annual_percent                       0\n",
              "gdp_per_capita_usd                              0\n",
              "stability_of_government_estimate                0\n",
              "health_expenditure_pct_gdp                      0\n",
              "child_mortality_rate                            0\n",
              "life_expectancy_at_birth                        0\n",
              "fertility_rate_total                            0\n",
              "population_65_plus_percent                      0\n",
              "population_total                                0\n",
              "urban_population_percent                        0\n",
              "dtype: int64"
            ]
          },
          "execution_count": 19,
          "metadata": {},
          "output_type": "execute_result"
        }
      ],
      "source": [
        "df_final.isnull().sum()"
      ]
    },
    {
      "cell_type": "markdown",
      "metadata": {
        "id": "kG-4HO7pzZ1b"
      },
      "source": [
        "### Correcting some strange values calculated by KNNImputer"
      ]
    },
    {
      "cell_type": "code",
      "execution_count": 21,
      "metadata": {
        "id": "cYQBaZ1xZUpI"
      },
      "outputs": [],
      "source": [
        "df_final.loc[df_final[\"Country Name\"] == \"Venezuela, RB\", \"gdp_per_capita_usd\"] = 3306.912\n",
        "df_final.loc[df_final[\"Country Name\"] == \"Cuba\", \"gdp_per_capita_usd\"] = 10000.00"
      ]
    },
    {
      "cell_type": "markdown",
      "metadata": {
        "id": "nOmFTvJBz122"
      },
      "source": [
        "## Saving the preprocessed dataset"
      ]
    },
    {
      "cell_type": "code",
      "execution_count": 22,
      "metadata": {
        "id": "kQ6XLDv1CEC6"
      },
      "outputs": [],
      "source": [
        "final_path = 'WDI2022.csv'\n",
        "df_final.to_csv(final_path, index=False)"
      ]
    }
  ],
  "metadata": {
    "colab": {
      "provenance": []
    },
    "kernelspec": {
      "display_name": "Python 3",
      "name": "python3"
    },
    "language_info": {
      "codemirror_mode": {
        "name": "ipython",
        "version": 3
      },
      "file_extension": ".py",
      "mimetype": "text/x-python",
      "name": "python",
      "nbconvert_exporter": "python",
      "pygments_lexer": "ipython3",
      "version": "3.11.4"
    }
  },
  "nbformat": 4,
  "nbformat_minor": 0
}
